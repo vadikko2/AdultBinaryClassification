{
 "cells": [
  {
   "cell_type": "code",
   "execution_count": 17,
   "metadata": {},
   "outputs": [],
   "source": [
    "import pandas as pd\n",
    "from sklearn.preprocessing import Imputer\n",
    "import numpy as np\n",
    "from xgboost import XGBClassifier\n",
    "from sklearn.feature_selection import SelectFromModel\n",
    "from sklearn.metrics import accuracy_score"
   ]
  },
  {
   "cell_type": "code",
   "execution_count": 2,
   "metadata": {},
   "outputs": [],
   "source": [
    "train = np.asarray(pd.read_csv('train2.csv'))\n",
    "dx_train , dy_train = train[:, :-1], train[:,-1]\n",
    "x_test = np.asarray(pd.read_csv('test2.csv'))"
   ]
  },
  {
   "cell_type": "code",
   "execution_count": 3,
   "metadata": {},
   "outputs": [],
   "source": [
    "def preproc(x):\n",
    "    colm_val_dict = {}\n",
    "    for i in range(0,x.shape[1]):\n",
    "        tmp = x[:, i]\n",
    "        if type(tmp[0]) is str:\n",
    "            count = 0\n",
    "            value_dict = {}\n",
    "            #составляем словарь\n",
    "            for val in tmp:\n",
    "                if not (val in value_dict.keys()):\n",
    "                    if val == ' ?':\n",
    "                        value_dict[val] = np.nan\n",
    "                    else:\n",
    "                        value_dict[val] = count\n",
    "                        count+=1\n",
    "            colm_val_dict[str(i)] = value_dict\n",
    "            #заменяем\n",
    "            for j in range(len(x[:, i])):\n",
    "                x[:, i][j]= value_dict[x[:, i][j]]\n",
    "    return x"
   ]
  },
  {
   "cell_type": "code",
   "execution_count": 6,
   "metadata": {},
   "outputs": [],
   "source": [
    "tmpX = preproc(np.append(dx_train, x_test, axis=0))\n",
    "dx_train = tmpX[:len(dx_train)]\n",
    "x_test = tmpX[len(dx_train):]\n",
    "x_train = dx_train\n",
    "y_train = dy_train"
   ]
  },
  {
   "cell_type": "code",
   "execution_count": 7,
   "metadata": {},
   "outputs": [],
   "source": [
    "imp_train = Imputer(missing_values=np.nan)\n",
    "x_train = imp_train.fit_transform(x_train)\n",
    "\n",
    "imp_test = Imputer(missing_values=np.nan)\n",
    "x_test = imp_test.fit_transform(x_test)"
   ]
  },
  {
   "cell_type": "code",
   "execution_count": 8,
   "metadata": {},
   "outputs": [],
   "source": [
    "x_train = np.asarray(x_train)\n",
    "y_train = np.asarray(y_train)\n",
    "x_test = np.asarray(x_test)\n",
    "y_train = y_train.astype('int')"
   ]
  },
  {
   "cell_type": "code",
   "execution_count": 13,
   "metadata": {},
   "outputs": [],
   "source": [
    "clf = XGBClassifier(learning_rate=0.1,n_estimators=60,max_depth=21,max_features='sqrt', \n",
    "                    subsample=0.9, random_state=0, \n",
    "                    min_samples_split = 110, min_samples_leaf = 30).fit(x_train, y_train)"
   ]
  },
  {
   "cell_type": "code",
   "execution_count": 14,
   "metadata": {
    "scrolled": true
   },
   "outputs": [
    {
     "name": "stderr",
     "output_type": "stream",
     "text": [
      "/home/vkozyrevskii/anaconda3/lib/python3.6/site-packages/sklearn/preprocessing/label.py:151: DeprecationWarning: The truth value of an empty array is ambiguous. Returning False, but in future this will result in an error. Use `array.size > 0` to check that an array is not empty.\n",
      "  if diff:\n"
     ]
    },
    {
     "data": {
      "text/plain": [
       "0.96861275759344"
      ]
     },
     "execution_count": 14,
     "metadata": {},
     "output_type": "execute_result"
    }
   ],
   "source": [
    "clf.score(x_train, y_train)"
   ]
  },
  {
   "cell_type": "code",
   "execution_count": 21,
   "metadata": {},
   "outputs": [
    {
     "name": "stderr",
     "output_type": "stream",
     "text": [
      "/home/vkozyrevskii/anaconda3/lib/python3.6/site-packages/sklearn/preprocessing/label.py:151: DeprecationWarning: The truth value of an empty array is ambiguous. Returning False, but in future this will result in an error. Use `array.size > 0` to check that an array is not empty.\n",
      "  if diff:\n"
     ]
    }
   ],
   "source": [
    "y_pred = clf.predict(x_test)\n",
    "f = open('results_Khayrkina5710M.txt','w')\n",
    "for y in y_pred:\n",
    "    f.write(str(y)+'\\n')\n",
    "f.close()"
   ]
  }
 ],
 "metadata": {
  "kernelspec": {
   "display_name": "Python 3",
   "language": "python",
   "name": "python3"
  },
  "language_info": {
   "codemirror_mode": {
    "name": "ipython",
    "version": 3
   },
   "file_extension": ".py",
   "mimetype": "text/x-python",
   "name": "python",
   "nbconvert_exporter": "python",
   "pygments_lexer": "ipython3",
   "version": "3.6.4"
  }
 },
 "nbformat": 4,
 "nbformat_minor": 2
}
