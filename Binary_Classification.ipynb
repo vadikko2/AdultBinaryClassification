{
 "cells": [
  {
   "cell_type": "code",
   "execution_count": 1,
   "metadata": {},
   "outputs": [
    {
     "name": "stderr",
     "output_type": "stream",
     "text": [
      "C:\\Users\\Kozyrevsky-V\\AppData\\Local\\Continuum\\anaconda3\\lib\\site-packages\\h5py\\__init__.py:36: FutureWarning: Conversion of the second argument of issubdtype from `float` to `np.floating` is deprecated. In future, it will be treated as `np.float64 == np.dtype(float).type`.\n",
      "  from ._conv import register_converters as _register_converters\n",
      "Using TensorFlow backend.\n"
     ]
    }
   ],
   "source": [
    "import pandas as pd\n",
    "from sklearn.preprocessing import Imputer, LabelEncoder\n",
    "from sklearn.model_selection import GridSearchCV\n",
    "import numpy as np\n",
    "import matplotlib.pyplot as plt\n",
    "from sklearn.ensemble import GradientBoostingClassifier\n",
    "from keras.layers import Dense, Dropout\n",
    "from keras.models import Sequential"
   ]
  },
  {
   "cell_type": "code",
   "execution_count": 2,
   "metadata": {},
   "outputs": [],
   "source": [
    "train = np.asarray(pd.read_csv('train2.csv'))\n",
    "dx_train , dy_train = train[:, :-1], train[:,-1]\n",
    "x_test = np.asarray(pd.read_csv('test2.csv'))"
   ]
  },
  {
   "cell_type": "code",
   "execution_count": 3,
   "metadata": {},
   "outputs": [
    {
     "name": "stdout",
     "output_type": "stream",
     "text": [
      "(32560, 14)\n",
      "(32560,)\n"
     ]
    }
   ],
   "source": [
    "print(dx_train.shape)\n",
    "print(dy_train.shape)"
   ]
  },
  {
   "cell_type": "code",
   "execution_count": 4,
   "metadata": {},
   "outputs": [],
   "source": [
    "p = np.random.permutation(dx_train.shape[0])\n",
    "x_train = dx_train[p[0:int(len(dx_train)*0.8)], :]\n",
    "y_train = dy_train[p[0:int(len(dy_train)*0.8)]]\n",
    "x_val = dx_train[p[int(len(dx_train)*0.8):], :]\n",
    "y_val = dy_train[p[int(len(dy_train)*0.8):]]"
   ]
  },
  {
   "cell_type": "code",
   "execution_count": 19,
   "metadata": {},
   "outputs": [],
   "source": [
    "def preproc_y(Y):\n",
    "    newY = []\n",
    "    for y in Y:\n",
    "        tmp = np.zeros(2)\n",
    "        tmp[y] = 1\n",
    "        newY.append(tmp)\n",
    "    return np.asarray(newY)"
   ]
  },
  {
   "cell_type": "code",
   "execution_count": 6,
   "metadata": {},
   "outputs": [],
   "source": [
    "def preproc(x):\n",
    "    colm_val_dict = {}\n",
    "    for i in range(0,x.shape[1]):\n",
    "        tmp = x[:, i]\n",
    "        if type(tmp[0]) is str:\n",
    "            count = 0\n",
    "            value_dict = {}\n",
    "            #составляем словарь\n",
    "            for val in tmp:\n",
    "                if not (val in value_dict.keys()):\n",
    "                    if val == ' ?':\n",
    "                        value_dict[val] = np.nan\n",
    "                    else:\n",
    "                        value_dict[val] = count\n",
    "                        count+=1\n",
    "            colm_val_dict[str(i)] = value_dict\n",
    "            #print(value_dict)\n",
    "            #заменяем\n",
    "            for j in range(len(x[:, i])):\n",
    "                x[:, i][j]= value_dict[x[:, i][j]]\n",
    "    return x"
   ]
  },
  {
   "cell_type": "code",
   "execution_count": 7,
   "metadata": {},
   "outputs": [],
   "source": [
    "def normolize(x):\n",
    "    for i in range(0, x.shape[1]):\n",
    "        tmp = x[:, i]\n",
    "        x[:, i] = (x[:, i] - np.mean(x[:, i], axis = 0)) / np.var(x[:, i], axis = 0)\n",
    "    return x"
   ]
  },
  {
   "cell_type": "code",
   "execution_count": 8,
   "metadata": {},
   "outputs": [],
   "source": [
    "x_train = preproc(x_train)\n",
    "x_test = preproc(x_test)\n",
    "x_val = preproc(x_val)"
   ]
  },
  {
   "cell_type": "code",
   "execution_count": 9,
   "metadata": {},
   "outputs": [],
   "source": [
    "imp_train = Imputer(missing_values=np.nan)\n",
    "x_train = imp_train.fit_transform(x_train)\n",
    "\n",
    "imp_val = Imputer(missing_values=np.nan)\n",
    "x_val = imp_val.fit_transform(x_val)\n",
    "\n",
    "imp_test = Imputer(missing_values=np.nan)\n",
    "x_test = imp_test.fit_transform(x_test)"
   ]
  },
  {
   "cell_type": "code",
   "execution_count": 10,
   "metadata": {},
   "outputs": [],
   "source": [
    "x_train = normolize(x_train)\n",
    "x_val = normolize(x_val)\n",
    "x_test = normolize(x_test)"
   ]
  },
  {
   "cell_type": "code",
   "execution_count": 11,
   "metadata": {
    "scrolled": true
   },
   "outputs": [
    {
     "name": "stdout",
     "output_type": "stream",
     "text": [
      "(26048, 14)\n",
      "(26048,)\n"
     ]
    }
   ],
   "source": [
    "print(x_train.shape)\n",
    "print(y_train.shape)"
   ]
  },
  {
   "cell_type": "code",
   "execution_count": 12,
   "metadata": {},
   "outputs": [],
   "source": [
    "x_train = np.asarray(x_train)\n",
    "y_train = np.asarray(y_train)\n",
    "x_val = np.asarray(x_val)\n",
    "y_val = np.asarray(y_val)\n",
    "x_test = np.asarray(x_test)\n"
   ]
  },
  {
   "cell_type": "code",
   "execution_count": 20,
   "metadata": {},
   "outputs": [],
   "source": [
    "y_train = preproc_y(y_train)\n",
    "y_val = preproc_y(y_val)"
   ]
  },
  {
   "cell_type": "code",
   "execution_count": 21,
   "metadata": {},
   "outputs": [
    {
     "name": "stdout",
     "output_type": "stream",
     "text": [
      "(26048, 14)\n",
      "(26048, 2)\n"
     ]
    }
   ],
   "source": [
    "print(x_train.shape)\n",
    "print(y_train.shape)"
   ]
  },
  {
   "cell_type": "code",
   "execution_count": 34,
   "metadata": {},
   "outputs": [],
   "source": [
    "model = Sequential()\n",
    "model.add(Dense(2048, activation='relu', input_dim=14))\n",
    "model.add(Dropout(0.5))\n",
    "model.add(Dense(24, activation = 'relu'))\n",
    "model.add(Dropout(0.5))\n",
    "model.add(Dense(10, activation = 'sigmoid'))\n",
    "model.add(Dropout(0.5))\n",
    "model.add(Dense(2, activation = 'softmax'))\n",
    "model.compile(optimizer='rmsprop',\n",
    "              loss='MSE',\n",
    "              metrics=['acc'])"
   ]
  },
  {
   "cell_type": "code",
   "execution_count": 35,
   "metadata": {
    "scrolled": true
   },
   "outputs": [
    {
     "name": "stdout",
     "output_type": "stream",
     "text": [
      "Train on 26048 samples, validate on 6512 samples\n",
      "Epoch 1/50\n",
      "26048/26048 [==============================] - 1s 54us/step - loss: 0.1997 - acc: 0.6880 - val_loss: 0.1436 - val_acc: 0.8097\n",
      "Epoch 2/50\n",
      "26048/26048 [==============================] - 1s 44us/step - loss: 0.1616 - acc: 0.7617 - val_loss: 0.1354 - val_acc: 0.8094\n",
      "Epoch 3/50\n",
      "26048/26048 [==============================] - 1s 45us/step - loss: 0.1470 - acc: 0.7893 - val_loss: 0.1340 - val_acc: 0.8123\n",
      "Epoch 4/50\n",
      "26048/26048 [==============================] - 1s 45us/step - loss: 0.1432 - acc: 0.7933 - val_loss: 0.1355 - val_acc: 0.8057\n",
      "Epoch 5/50\n",
      "26048/26048 [==============================] - 1s 46us/step - loss: 0.1395 - acc: 0.7966 - val_loss: 0.1294 - val_acc: 0.8168\n",
      "Epoch 6/50\n",
      "26048/26048 [==============================] - 1s 45us/step - loss: 0.1376 - acc: 0.7977 - val_loss: 0.1280 - val_acc: 0.8179\n",
      "Epoch 7/50\n",
      "26048/26048 [==============================] - 1s 47us/step - loss: 0.1353 - acc: 0.8014 - val_loss: 0.1278 - val_acc: 0.8174\n",
      "Epoch 8/50\n",
      "26048/26048 [==============================] - 1s 47us/step - loss: 0.1337 - acc: 0.8027 - val_loss: 0.1348 - val_acc: 0.8084\n",
      "Epoch 9/50\n",
      "26048/26048 [==============================] - 1s 45us/step - loss: 0.1327 - acc: 0.8040 - val_loss: 0.1245 - val_acc: 0.8193\n",
      "Epoch 10/50\n",
      "26048/26048 [==============================] - 1s 51us/step - loss: 0.1314 - acc: 0.8080 - val_loss: 0.1310 - val_acc: 0.8165\n",
      "Epoch 11/50\n",
      "26048/26048 [==============================] - 1s 49us/step - loss: 0.1317 - acc: 0.8043 - val_loss: 0.1263 - val_acc: 0.8179\n",
      "Epoch 12/50\n",
      "26048/26048 [==============================] - 1s 46us/step - loss: 0.1308 - acc: 0.8069 - val_loss: 0.1311 - val_acc: 0.8146\n",
      "Epoch 13/50\n",
      "26048/26048 [==============================] - 1s 48us/step - loss: 0.1308 - acc: 0.8085 - val_loss: 0.1318 - val_acc: 0.8151\n",
      "Epoch 14/50\n",
      "26048/26048 [==============================] - 1s 45us/step - loss: 0.1296 - acc: 0.8097 - val_loss: 0.1274 - val_acc: 0.8165\n",
      "Epoch 15/50\n",
      "26048/26048 [==============================] - 1s 50us/step - loss: 0.1281 - acc: 0.8113 - val_loss: 0.1271 - val_acc: 0.8177\n",
      "Epoch 16/50\n",
      "26048/26048 [==============================] - 1s 49us/step - loss: 0.1293 - acc: 0.8108 - val_loss: 0.1316 - val_acc: 0.8116\n",
      "Epoch 17/50\n",
      "26048/26048 [==============================] - 1s 49us/step - loss: 0.1279 - acc: 0.8110 - val_loss: 0.1267 - val_acc: 0.8160\n",
      "Epoch 18/50\n",
      "26048/26048 [==============================] - 1s 48us/step - loss: 0.1273 - acc: 0.8134 - val_loss: 0.1304 - val_acc: 0.8120\n",
      "Epoch 19/50\n",
      "26048/26048 [==============================] - 1s 47us/step - loss: 0.1282 - acc: 0.8107 - val_loss: 0.1310 - val_acc: 0.8146\n",
      "Epoch 20/50\n",
      "26048/26048 [==============================] - 1s 50us/step - loss: 0.1265 - acc: 0.8139 - val_loss: 0.1360 - val_acc: 0.8065\n",
      "Epoch 21/50\n",
      "26048/26048 [==============================] - 1s 49us/step - loss: 0.1275 - acc: 0.8123 - val_loss: 0.1282 - val_acc: 0.8151\n",
      "Epoch 22/50\n",
      "26048/26048 [==============================] - 1s 47us/step - loss: 0.1260 - acc: 0.8148 - val_loss: 0.1318 - val_acc: 0.8079\n",
      "Epoch 23/50\n",
      "26048/26048 [==============================] - 1s 46us/step - loss: 0.1271 - acc: 0.8129 - val_loss: 0.1293 - val_acc: 0.8148\n",
      "Epoch 24/50\n",
      "26048/26048 [==============================] - 1s 48us/step - loss: 0.1259 - acc: 0.8155 - val_loss: 0.1292 - val_acc: 0.8151\n",
      "Epoch 25/50\n",
      "26048/26048 [==============================] - 1s 49us/step - loss: 0.1249 - acc: 0.8150 - val_loss: 0.1300 - val_acc: 0.8173\n",
      "Epoch 26/50\n",
      "26048/26048 [==============================] - 1s 50us/step - loss: 0.1259 - acc: 0.8140 - val_loss: 0.1365 - val_acc: 0.8082\n",
      "Epoch 27/50\n",
      "26048/26048 [==============================] - 1s 51us/step - loss: 0.1260 - acc: 0.8161 - val_loss: 0.1286 - val_acc: 0.8134\n",
      "Epoch 28/50\n",
      "26048/26048 [==============================] - 1s 51us/step - loss: 0.1254 - acc: 0.8171 - val_loss: 0.1299 - val_acc: 0.8173\n",
      "Epoch 29/50\n",
      "26048/26048 [==============================] - 1s 47us/step - loss: 0.1262 - acc: 0.8110 - val_loss: 0.1297 - val_acc: 0.8139\n",
      "Epoch 30/50\n",
      "26048/26048 [==============================] - 1s 49us/step - loss: 0.1236 - acc: 0.8173 - val_loss: 0.1314 - val_acc: 0.8090\n",
      "Epoch 31/50\n",
      "26048/26048 [==============================] - 1s 51us/step - loss: 0.1254 - acc: 0.8153 - val_loss: 0.1283 - val_acc: 0.8160\n",
      "Epoch 32/50\n",
      "26048/26048 [==============================] - 1s 49us/step - loss: 0.1243 - acc: 0.8166 - val_loss: 0.1355 - val_acc: 0.8061\n",
      "Epoch 33/50\n",
      "26048/26048 [==============================] - 1s 50us/step - loss: 0.1246 - acc: 0.8153 - val_loss: 0.1356 - val_acc: 0.8131\n",
      "Epoch 34/50\n",
      "26048/26048 [==============================] - 1s 49us/step - loss: 0.1244 - acc: 0.8157 - val_loss: 0.1320 - val_acc: 0.8148\n",
      "Epoch 35/50\n",
      "26048/26048 [==============================] - 1s 52us/step - loss: 0.1246 - acc: 0.8165 - val_loss: 0.1286 - val_acc: 0.8174\n",
      "Epoch 36/50\n",
      "26048/26048 [==============================] - 1s 49us/step - loss: 0.1240 - acc: 0.8150 - val_loss: 0.1308 - val_acc: 0.8139\n",
      "Epoch 37/50\n",
      "26048/26048 [==============================] - 1s 48us/step - loss: 0.1238 - acc: 0.8169 - val_loss: 0.1285 - val_acc: 0.8179\n",
      "Epoch 38/50\n",
      "26048/26048 [==============================] - 1s 47us/step - loss: 0.1230 - acc: 0.8185 - val_loss: 0.1338 - val_acc: 0.8100\n",
      "Epoch 39/50\n",
      "26048/26048 [==============================] - 1s 47us/step - loss: 0.1229 - acc: 0.8178 - val_loss: 0.1302 - val_acc: 0.8176\n",
      "Epoch 40/50\n",
      "26048/26048 [==============================] - 1s 46us/step - loss: 0.1226 - acc: 0.8203 - val_loss: 0.1286 - val_acc: 0.8153\n",
      "Epoch 41/50\n",
      "26048/26048 [==============================] - 1s 47us/step - loss: 0.1236 - acc: 0.8165 - val_loss: 0.1307 - val_acc: 0.8102\n",
      "Epoch 42/50\n",
      "26048/26048 [==============================] - 1s 47us/step - loss: 0.1237 - acc: 0.8181 - val_loss: 0.1297 - val_acc: 0.8139\n",
      "Epoch 43/50\n",
      "26048/26048 [==============================] - 1s 47us/step - loss: 0.1228 - acc: 0.8196 - val_loss: 0.1326 - val_acc: 0.8107\n",
      "Epoch 44/50\n",
      "26048/26048 [==============================] - 1s 49us/step - loss: 0.1227 - acc: 0.8198 - val_loss: 0.1276 - val_acc: 0.8179\n",
      "Epoch 45/50\n",
      "26048/26048 [==============================] - 1s 47us/step - loss: 0.1228 - acc: 0.8189 - val_loss: 0.1354 - val_acc: 0.8099\n",
      "Epoch 46/50\n",
      "26048/26048 [==============================] - 1s 49us/step - loss: 0.1222 - acc: 0.8190 - val_loss: 0.1285 - val_acc: 0.8176\n",
      "Epoch 47/50\n",
      "26048/26048 [==============================] - 1s 47us/step - loss: 0.1223 - acc: 0.8175 - val_loss: 0.1277 - val_acc: 0.8168\n",
      "Epoch 48/50\n",
      "26048/26048 [==============================] - 1s 46us/step - loss: 0.1223 - acc: 0.8185 - val_loss: 0.1276 - val_acc: 0.8151\n",
      "Epoch 49/50\n",
      "26048/26048 [==============================] - 1s 49us/step - loss: 0.1225 - acc: 0.8190 - val_loss: 0.1287 - val_acc: 0.8150\n",
      "Epoch 50/50\n",
      "26048/26048 [==============================] - 1s 48us/step - loss: 0.1217 - acc: 0.8210 - val_loss: 0.1266 - val_acc: 0.8188\n"
     ]
    }
   ],
   "source": [
    "history = model.fit(x_train, y_train, validation_data=(x_val, y_val), epochs=50, batch_size=1000)"
   ]
  },
  {
   "cell_type": "code",
   "execution_count": 36,
   "metadata": {},
   "outputs": [
    {
     "data": {
      "image/png": "[encoded data removed]",
      "text/plain": [
       "<matplotlib.figure.Figure at 0x183eda1db00>"
      ]
     },
     "metadata": {},
     "output_type": "display_data"
    },
    {
     "data": {
      "image/png": "[encoded data removed]",
      "text/plain": [
       "<matplotlib.figure.Figure at 0x183ece828d0>"
      ]
     },
     "metadata": {},
     "output_type": "display_data"
    }
   ],
   "source": [
    "plt.plot(history.history['loss'])\n",
    "plt.plot(history.history['val_loss'])\n",
    "plt.title('model loss')\n",
    "plt.ylabel('loss')\n",
    "plt.xlabel('epoch')\n",
    "plt.legend(['train', 'val'], loc='upper right')\n",
    "plt.show()\n",
    "\n",
    "plt.plot(history.history['acc'])\n",
    "plt.plot(history.history['val_acc'])\n",
    "plt.title('model accuracy')\n",
    "plt.ylabel('accuracy')\n",
    "plt.xlabel('epoch')\n",
    "plt.legend(['train', 'val'], loc='upper left')\n",
    "plt.show()"
   ]
  }
 ],
 "metadata": {
  "kernelspec": {
   "display_name": "Python 3",
   "language": "python",
   "name": "python3"
  },
  "language_info": {
   "codemirror_mode": {
    "name": "ipython",
    "version": 3
   },
   "file_extension": ".py",
   "mimetype": "text/x-python",
   "name": "python",
   "nbconvert_exporter": "python",
   "pygments_lexer": "ipython3",
   "version": "3.6.4"
  }
 },
 "nbformat": 4,
 "nbformat_minor": 2
}
