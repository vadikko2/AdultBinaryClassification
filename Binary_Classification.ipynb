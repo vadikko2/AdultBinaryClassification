{
 "cells": [
  {
   "cell_type": "code",
   "execution_count": 166,
   "metadata": {},
   "outputs": [],
   "source": [
    "import pandas as pd\n",
    "from sklearn.preprocessing import Imputer, LabelEncoder\n",
    "import numpy as np\n",
    "from sklearn import svm"
   ]
  },
  {
   "cell_type": "code",
   "execution_count": 167,
   "metadata": {},
   "outputs": [],
   "source": [
    "train = np.asarray(pd.read_csv('train2.csv'))\n",
    "x_train , y_train = train[:, :-1], train[:,-1]\n",
    "x_test = np.asarray(pd.read_csv('test2.csv'))"
   ]
  },
  {
   "cell_type": "code",
   "execution_count": 168,
   "metadata": {},
   "outputs": [],
   "source": [
    "def preproc(x):\n",
    "    colm_val_dict = {}\n",
    "    for i in range(0,x.shape[1]):\n",
    "        tmp = x[:, i]\n",
    "        if type(tmp[0]) is str:\n",
    "            count = 0\n",
    "            value_dict = {}\n",
    "            #составляем словарь\n",
    "            for val in tmp:\n",
    "                if not (val in value_dict.keys()):\n",
    "                    if val == ' ?':\n",
    "                        value_dict[val] = np.nan\n",
    "                    else:\n",
    "                        value_dict[val] = count\n",
    "                        count+=1\n",
    "            colm_val_dict[str(i)] = value_dict\n",
    "            #print(value_dict)\n",
    "            #заменяем\n",
    "            for j in range(len(x[:, i])):\n",
    "                x[:, i][j]= value_dict[x[:, i][j]]\n",
    "    return x"
   ]
  },
  {
   "cell_type": "code",
   "execution_count": 169,
   "metadata": {},
   "outputs": [],
   "source": [
    "x_train = preproc(x_train)\n",
    "x_test = preproc(x_test)"
   ]
  },
  {
   "cell_type": "code",
   "execution_count": null,
   "metadata": {},
   "outputs": [],
   "source": [
    "imp = Imputer(missing_values=np.nan)\n",
    "x_train = imp.fit_transform(x_train)"
   ]
  },
  {
   "cell_type": "code",
   "execution_count": null,
   "metadata": {},
   "outputs": [],
   "source": [
    "clf = svm.SVC()\n",
    "clf.fit(list(x_train), list(y_train))"
   ]
  },
  {
   "cell_type": "code",
   "execution_count": null,
   "metadata": {},
   "outputs": [],
   "source": []
  }
 ],
 "metadata": {
  "kernelspec": {
   "display_name": "Python 3",
   "language": "python",
   "name": "python3"
  },
  "language_info": {
   "codemirror_mode": {
    "name": "ipython",
    "version": 3
   },
   "file_extension": ".py",
   "mimetype": "text/x-python",
   "name": "python",
   "nbconvert_exporter": "python",
   "pygments_lexer": "ipython3",
   "version": "3.6.4"
  }
 },
 "nbformat": 4,
 "nbformat_minor": 2
}
